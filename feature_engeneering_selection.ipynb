{
 "cells": [
  {
   "cell_type": "markdown",
   "id": "0771a0e2-515a-4620-bde4-de72beb5726c",
   "metadata": {},
   "source": [
    "# Car Evaluator Predictor\n",
    "\n",
    "## About Dataset\n",
    "\n",
    "Car Acceptability Classification Database was derived from a simple hierarchical decision model originally developed for the demonstration of DEX, M. Bohanec, V. Rajkovic: Expert system for decision making. Sistemica 1(1), pp. 145-157, 1990.). \n",
    "\n",
    "This is a multiclass classification dataset using which we can evaluate the different classes of acceptability of a car depending on the different parameters.\n",
    "\n",
    "## Source\n",
    "\n",
    "This dataset is available on Kaggle in the following link:\n",
    "\n",
    "> https://www.kaggle.com/datasets/subhajeetdas/car-acceptability-classification-dataset/data\n",
    "\n",
    "## Data Dictionary\n",
    "\n",
    "* **Buying_Price**: Buying price of the car. Categorical Data(v-high, high, med, low)\n",
    "* **Maintenance_Price**: Price of the maintenance of car. Categorical Data (v-high, high, med, low)\n",
    "* **No_of_Doors**: Number of doors in the car. Categorical Data  (2, 3, 4, 5-more)\n",
    "* **Person_Capacity**: Capacity in terms of persons to carry by the car. Categorical Data (2, 4, more)\n",
    "* **Size_of_Luggage**: The size of luggage boot in the car. Categorical Data (small, med, big)\n",
    "* **Safety**: Estimated safety of the car. Categorical Data  (low, med, high)\n",
    "* **Car_Acceptability**: Car acceptability is the target. (unacc: unacceptible, acc: acceptible, good: good, v-good: very good)\n",
    "\n",
    "## Problem Statement\n",
    "\n",
    "1. **Feature Engineering**: The objective of feature engineering is to encode the categorical features into numerical values.\n",
    "2. **Feature Selection**: The objective of feature selection is to select the most influential features for prediction."
   ]
  },
  {
   "cell_type": "markdown",
   "id": "0f6e1950-4297-48b2-b0de-856833e70799",
   "metadata": {},
   "source": [
    "### Load Necessary Libraries"
   ]
  },
  {
   "cell_type": "code",
   "execution_count": 1,
   "id": "7dc7a470-4a28-47f2-a507-ef7c5cb353a1",
   "metadata": {},
   "outputs": [],
   "source": [
    "import pandas as pd\n",
    "import numpy as np\n",
    "from imblearn.over_sampling import SMOTE\n",
    "import warnings"
   ]
  },
  {
   "cell_type": "markdown",
   "id": "8672ec98-d316-41e6-a540-9a74cd31eb34",
   "metadata": {},
   "source": [
    "### Settings"
   ]
  },
  {
   "cell_type": "code",
   "execution_count": 2,
   "id": "63dfe58f-c630-4253-bd35-78eb9f078bd1",
   "metadata": {},
   "outputs": [],
   "source": [
    "warnings.filterwarnings(\"ignore\")"
   ]
  },
  {
   "cell_type": "markdown",
   "id": "c59e907d-77f2-412c-952b-b29bc989bf4c",
   "metadata": {},
   "source": [
    "## Load Dataset"
   ]
  },
  {
   "cell_type": "code",
   "execution_count": 14,
   "id": "c399a900-ab52-47a3-b134-c16510c52686",
   "metadata": {},
   "outputs": [],
   "source": [
    "csv_path = \"car.csv\"\n",
    "df = pd.read_csv(csv_path)"
   ]
  },
  {
   "cell_type": "code",
   "execution_count": 15,
   "id": "d990129b-d436-488f-be7e-0253f3e6a963",
   "metadata": {},
   "outputs": [
    {
     "data": {
      "text/html": [
       "<div>\n",
       "<style scoped>\n",
       "    .dataframe tbody tr th:only-of-type {\n",
       "        vertical-align: middle;\n",
       "    }\n",
       "\n",
       "    .dataframe tbody tr th {\n",
       "        vertical-align: top;\n",
       "    }\n",
       "\n",
       "    .dataframe thead th {\n",
       "        text-align: right;\n",
       "    }\n",
       "</style>\n",
       "<table border=\"1\" class=\"dataframe\">\n",
       "  <thead>\n",
       "    <tr style=\"text-align: right;\">\n",
       "      <th></th>\n",
       "      <th>Buying_Price</th>\n",
       "      <th>Maintenance_Price</th>\n",
       "      <th>No_of_Doors</th>\n",
       "      <th>Person_Capacity</th>\n",
       "      <th>Size_of_Luggage</th>\n",
       "      <th>Safety</th>\n",
       "      <th>Car_Acceptability</th>\n",
       "    </tr>\n",
       "  </thead>\n",
       "  <tbody>\n",
       "    <tr>\n",
       "      <th>0</th>\n",
       "      <td>vhigh</td>\n",
       "      <td>vhigh</td>\n",
       "      <td>2</td>\n",
       "      <td>2</td>\n",
       "      <td>small</td>\n",
       "      <td>low</td>\n",
       "      <td>unacc</td>\n",
       "    </tr>\n",
       "    <tr>\n",
       "      <th>1</th>\n",
       "      <td>vhigh</td>\n",
       "      <td>vhigh</td>\n",
       "      <td>2</td>\n",
       "      <td>2</td>\n",
       "      <td>small</td>\n",
       "      <td>med</td>\n",
       "      <td>unacc</td>\n",
       "    </tr>\n",
       "    <tr>\n",
       "      <th>2</th>\n",
       "      <td>vhigh</td>\n",
       "      <td>vhigh</td>\n",
       "      <td>2</td>\n",
       "      <td>2</td>\n",
       "      <td>small</td>\n",
       "      <td>high</td>\n",
       "      <td>unacc</td>\n",
       "    </tr>\n",
       "    <tr>\n",
       "      <th>3</th>\n",
       "      <td>vhigh</td>\n",
       "      <td>vhigh</td>\n",
       "      <td>2</td>\n",
       "      <td>2</td>\n",
       "      <td>med</td>\n",
       "      <td>low</td>\n",
       "      <td>unacc</td>\n",
       "    </tr>\n",
       "    <tr>\n",
       "      <th>4</th>\n",
       "      <td>vhigh</td>\n",
       "      <td>vhigh</td>\n",
       "      <td>2</td>\n",
       "      <td>2</td>\n",
       "      <td>med</td>\n",
       "      <td>med</td>\n",
       "      <td>unacc</td>\n",
       "    </tr>\n",
       "  </tbody>\n",
       "</table>\n",
       "</div>"
      ],
      "text/plain": [
       "  Buying_Price Maintenance_Price No_of_Doors Person_Capacity Size_of_Luggage  \\\n",
       "0        vhigh             vhigh           2               2           small   \n",
       "1        vhigh             vhigh           2               2           small   \n",
       "2        vhigh             vhigh           2               2           small   \n",
       "3        vhigh             vhigh           2               2             med   \n",
       "4        vhigh             vhigh           2               2             med   \n",
       "\n",
       "  Safety Car_Acceptability  \n",
       "0    low             unacc  \n",
       "1    med             unacc  \n",
       "2   high             unacc  \n",
       "3    low             unacc  \n",
       "4    med             unacc  "
      ]
     },
     "execution_count": 15,
     "metadata": {},
     "output_type": "execute_result"
    }
   ],
   "source": [
    "# Check 1st 5 rows\n",
    "df.head()"
   ]
  },
  {
   "cell_type": "markdown",
   "id": "5acdc4d0-fbef-4a67-94a6-b018b4c516f6",
   "metadata": {},
   "source": [
    "### Feature Encoding\n",
    "\n",
    "1. Convert the categorical features corresponfing numeric values.\n",
    "2. As all the features are ordinal in nature so we encode them by mapping a specified ordered values."
   ]
  },
  {
   "cell_type": "code",
   "execution_count": 20,
   "id": "86a6678d-67ff-4262-be2d-014739213c6f",
   "metadata": {},
   "outputs": [
    {
     "data": {
      "text/plain": [
       "Car_Acceptability\n",
       "unacc    1210\n",
       "acc       384\n",
       "good       69\n",
       "vgood      65\n",
       "Name: count, dtype: int64"
      ]
     },
     "execution_count": 20,
     "metadata": {},
     "output_type": "execute_result"
    }
   ],
   "source": [
    "df[\"Car_Acceptability\"].value_counts()"
   ]
  },
  {
   "cell_type": "code",
   "execution_count": 21,
   "id": "9160b013-acd9-4049-bd12-94c48b09815d",
   "metadata": {},
   "outputs": [],
   "source": [
    "# Encode Buying_Price and Maintenance_Price\n",
    "price_dict = {\n",
    "    \"low\": 1,\n",
    "    \"med\": 2,\n",
    "    \"high\": 3,\n",
    "    \"vhigh\": 4\n",
    "}\n",
    "df[\"Buying_Price\"] = df[\"Buying_Price\"].map(price_dict)\n",
    "df[\"Maintenance_Price\"] = df[\"Maintenance_Price\"].map(price_dict)\n",
    "\n"
   ]
  },
  {
   "cell_type": "code",
   "execution_count": 22,
   "id": "6ebb59cd-b00b-4b05-93cb-d69924a8c6fa",
   "metadata": {},
   "outputs": [],
   "source": [
    "# Encode Doors \n",
    "doors_dict = {\n",
    "    \"2\": 2,\n",
    "    \"3\": 3,\n",
    "    \"4\": 4,\n",
    "    \"5more\": 5\n",
    "}\n",
    "df[\"No_of_Doors\"] = df[\"No_of_Doors\"].map(doors_dict)\n"
   ]
  },
  {
   "cell_type": "code",
   "execution_count": 23,
   "id": "33e0175c-faa2-4368-a9f6-3aa1c4f5e8a9",
   "metadata": {},
   "outputs": [],
   "source": [
    "# Encode Person_Capacity\n",
    "capacity_dict ={\n",
    "    \"2\": 2,\n",
    "    \"4\": 4,\n",
    "    \"more\": 5\n",
    "}\n",
    "df[\"Person_Capacity\"] = df[\"Person_Capacity\"].map(capacity_dict)"
   ]
  },
  {
   "cell_type": "code",
   "execution_count": 24,
   "id": "a8546b93-cc2a-43a8-8bae-ab70c67e7f56",
   "metadata": {},
   "outputs": [],
   "source": [
    "# Encode Size_of_Luggage\n",
    "size_dict = {\n",
    "    \"small\": 1,\n",
    "    \"med\": 2,\n",
    "    \"big\": 3\n",
    "}\n",
    "df[\"Size_of_Luggage\"] = df[\"Size_of_Luggage\"].map(size_dict)"
   ]
  },
  {
   "cell_type": "code",
   "execution_count": 25,
   "id": "f679ca25-15d2-43da-8eac-4a4d70748ca2",
   "metadata": {},
   "outputs": [],
   "source": [
    "# Encode Safety\n",
    "safety_dict = {\n",
    "    \"low\": 1,\n",
    "    \"med\": 2,\n",
    "    \"high\": 3\n",
    "}\n",
    "df[\"Safety\"] = df[\"Safety\"].map(safety_dict)"
   ]
  },
  {
   "cell_type": "code",
   "execution_count": 26,
   "id": "3556ce1d-9998-484f-8253-b23dd83c596e",
   "metadata": {},
   "outputs": [],
   "source": [
    "# Encode Car_Acceptability\n",
    "evaluate_dict = {\n",
    "    \"unacc\": 1,\n",
    "    \"acc\": 2,\n",
    "    \"good\": 3,\n",
    "    \"vgood\": 4\n",
    "}\n",
    "df[\"Car_Acceptability\"] = df[\"Car_Acceptability\"].map(evaluate_dict)"
   ]
  },
  {
   "cell_type": "code",
   "execution_count": 27,
   "id": "8fa8af14-70d5-4299-bae3-1ef889a25b80",
   "metadata": {},
   "outputs": [
    {
     "data": {
      "text/html": [
       "<div>\n",
       "<style scoped>\n",
       "    .dataframe tbody tr th:only-of-type {\n",
       "        vertical-align: middle;\n",
       "    }\n",
       "\n",
       "    .dataframe tbody tr th {\n",
       "        vertical-align: top;\n",
       "    }\n",
       "\n",
       "    .dataframe thead th {\n",
       "        text-align: right;\n",
       "    }\n",
       "</style>\n",
       "<table border=\"1\" class=\"dataframe\">\n",
       "  <thead>\n",
       "    <tr style=\"text-align: right;\">\n",
       "      <th></th>\n",
       "      <th>Buying_Price</th>\n",
       "      <th>Maintenance_Price</th>\n",
       "      <th>No_of_Doors</th>\n",
       "      <th>Person_Capacity</th>\n",
       "      <th>Size_of_Luggage</th>\n",
       "      <th>Safety</th>\n",
       "      <th>Car_Acceptability</th>\n",
       "    </tr>\n",
       "  </thead>\n",
       "  <tbody>\n",
       "    <tr>\n",
       "      <th>0</th>\n",
       "      <td>4</td>\n",
       "      <td>4</td>\n",
       "      <td>2</td>\n",
       "      <td>2</td>\n",
       "      <td>1</td>\n",
       "      <td>1</td>\n",
       "      <td>1</td>\n",
       "    </tr>\n",
       "    <tr>\n",
       "      <th>1</th>\n",
       "      <td>4</td>\n",
       "      <td>4</td>\n",
       "      <td>2</td>\n",
       "      <td>2</td>\n",
       "      <td>1</td>\n",
       "      <td>2</td>\n",
       "      <td>1</td>\n",
       "    </tr>\n",
       "    <tr>\n",
       "      <th>2</th>\n",
       "      <td>4</td>\n",
       "      <td>4</td>\n",
       "      <td>2</td>\n",
       "      <td>2</td>\n",
       "      <td>1</td>\n",
       "      <td>3</td>\n",
       "      <td>1</td>\n",
       "    </tr>\n",
       "    <tr>\n",
       "      <th>3</th>\n",
       "      <td>4</td>\n",
       "      <td>4</td>\n",
       "      <td>2</td>\n",
       "      <td>2</td>\n",
       "      <td>2</td>\n",
       "      <td>1</td>\n",
       "      <td>1</td>\n",
       "    </tr>\n",
       "    <tr>\n",
       "      <th>4</th>\n",
       "      <td>4</td>\n",
       "      <td>4</td>\n",
       "      <td>2</td>\n",
       "      <td>2</td>\n",
       "      <td>2</td>\n",
       "      <td>2</td>\n",
       "      <td>1</td>\n",
       "    </tr>\n",
       "  </tbody>\n",
       "</table>\n",
       "</div>"
      ],
      "text/plain": [
       "   Buying_Price  Maintenance_Price  No_of_Doors  Person_Capacity  \\\n",
       "0             4                  4            2                2   \n",
       "1             4                  4            2                2   \n",
       "2             4                  4            2                2   \n",
       "3             4                  4            2                2   \n",
       "4             4                  4            2                2   \n",
       "\n",
       "   Size_of_Luggage  Safety  Car_Acceptability  \n",
       "0                1       1                  1  \n",
       "1                1       2                  1  \n",
       "2                1       3                  1  \n",
       "3                2       1                  1  \n",
       "4                2       2                  1  "
      ]
     },
     "execution_count": 27,
     "metadata": {},
     "output_type": "execute_result"
    }
   ],
   "source": [
    "# Sanity Check\n",
    "df.head()"
   ]
  },
  {
   "cell_type": "code",
   "execution_count": null,
   "id": "36b3aa87-51fb-43e9-883a-1362fd316b74",
   "metadata": {},
   "outputs": [],
   "source": [
    "# Save the encoded dataframe\n",
    "df.to_csv(\"car_encoded.csv\", index= False)"
   ]
  },
  {
   "cell_type": "markdown",
   "id": "9f7f260f-af46-4348-99cb-9aa93e723f33",
   "metadata": {},
   "source": [
    "### Data Oversampling\n",
    "\n",
    "To correct the imbalance in the data set we can perform an unbalanced oversampling technique, in order to counteract the bias in the data and to expand the number of instance that will feed our model.\n",
    "\n",
    "For this case we will use de Synthetic Minority Over-sampling Technique (SMOTE) to up-sample the minority classes while avoiding overfitting."
   ]
  },
  {
   "cell_type": "code",
   "execution_count": 28,
   "id": "19a1ed92-1c25-47de-aa4f-dded404af433",
   "metadata": {},
   "outputs": [],
   "source": [
    "# Separate Input and output features\n",
    "X = df.iloc[:, :-1]\n",
    "y = df.iloc[:, -1]"
   ]
  },
  {
   "cell_type": "code",
   "execution_count": 29,
   "id": "9e1618ef-2b0a-4c46-9b2c-ce49b73ba359",
   "metadata": {},
   "outputs": [],
   "source": [
    "s = SMOTE(k_neighbors = 2)\n",
    "X_r, y_r = s.fit_resample(X, y)"
   ]
  },
  {
   "cell_type": "code",
   "execution_count": 44,
   "id": "e026743e-b253-44fe-b94e-fe528368546b",
   "metadata": {},
   "outputs": [],
   "source": [
    "df_y = pd.DataFrame(y_r, columns=[\"Car_Acceptability\"])\n",
    "df_r = pd.concat([X_r, df_y], axis=1)"
   ]
  },
  {
   "cell_type": "code",
   "execution_count": 45,
   "id": "7999f953-0c87-45e8-84f9-6f323e356159",
   "metadata": {},
   "outputs": [
    {
     "data": {
      "text/plain": [
       "(4840, 7)"
      ]
     },
     "execution_count": 45,
     "metadata": {},
     "output_type": "execute_result"
    }
   ],
   "source": [
    "df_r.shape"
   ]
  },
  {
   "cell_type": "code",
   "execution_count": 46,
   "id": "0326d3f3-5c77-4f0c-8504-b90596bcf212",
   "metadata": {},
   "outputs": [
    {
     "data": {
      "text/plain": [
       "Car_Acceptability\n",
       "1    1210\n",
       "2    1210\n",
       "4    1210\n",
       "3    1210\n",
       "Name: count, dtype: int64"
      ]
     },
     "execution_count": 46,
     "metadata": {},
     "output_type": "execute_result"
    }
   ],
   "source": [
    "df_r[\"Car_Acceptability\"].value_counts()"
   ]
  },
  {
   "cell_type": "code",
   "execution_count": 47,
   "id": "10832d43-ada0-4d45-be32-d8caa64eb501",
   "metadata": {},
   "outputs": [],
   "source": [
    "# Save oversampled dataframe\n",
    "df_r.to_csv(\"car_oversampled.csv\", index=False)"
   ]
  },
  {
   "cell_type": "code",
   "execution_count": null,
   "id": "b4227b78-8a84-4b28-911f-255eb6d9becf",
   "metadata": {},
   "outputs": [],
   "source": []
  }
 ],
 "metadata": {
  "kernelspec": {
   "display_name": "Python 3 (ipykernel)",
   "language": "python",
   "name": "python3"
  },
  "language_info": {
   "codemirror_mode": {
    "name": "ipython",
    "version": 3
   },
   "file_extension": ".py",
   "mimetype": "text/x-python",
   "name": "python",
   "nbconvert_exporter": "python",
   "pygments_lexer": "ipython3",
   "version": "3.11.9"
  }
 },
 "nbformat": 4,
 "nbformat_minor": 5
}
